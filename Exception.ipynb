{
 "cells": [
  {
   "cell_type": "code",
   "execution_count": 2,
   "id": "79efecbf-aa8d-44db-ba3a-53d1ff089b31",
   "metadata": {},
   "outputs": [
    {
     "name": "stdin",
     "output_type": "stream",
     "text": [
      "Enter a first number 10\n",
      "Enter a second number 0\n"
     ]
    },
    {
     "name": "stdout",
     "output_type": "stream",
     "text": [
      "We cannot divide by zero\n"
     ]
    }
   ],
   "source": [
    "#program to handle a ZeroDivisionError exception when a dividing a number by zero\n",
    "try:\n",
    "    num1=int(input(\"Enter a first number\"))\n",
    "    num2=int(input(\"Enter a second number\"))\n",
    "\n",
    "    result=num1/num2\n",
    "    print(result)\n",
    "\n",
    "except ZeroDivisionError:\n",
    "    print(\"We cannot divide by zero\")"
   ]
  },
  {
   "cell_type": "code",
   "execution_count": 5,
   "id": "79c4a026-76db-465c-8441-5e8c4aa04844",
   "metadata": {},
   "outputs": [
    {
     "name": "stdin",
     "output_type": "stream",
     "text": [
      "Enter the value roopa\n"
     ]
    },
    {
     "name": "stdout",
     "output_type": "stream",
     "text": [
      "Cannot convert into int\n"
     ]
    }
   ],
   "source": [
    "#program that prompts the user to input an integer and raises a value exception if the input is not a vaid integer\n",
    "try:\n",
    "    result=int(input(\"Enter the value\"))\n",
    "\n",
    "    print(result)\n",
    "except ValueError:\n",
    "    print(\"Cannot convert into int\")\n",
    "    "
   ]
  },
  {
   "cell_type": "code",
   "execution_count": 12,
   "id": "3c81b016-6ec0-42e9-8c16-f6afea50158e",
   "metadata": {},
   "outputs": [
    {
     "name": "stdout",
     "output_type": "stream",
     "text": [
      "File not Found\n"
     ]
    }
   ],
   "source": [
    "#program that opens a file and handle a FileNotFoundError Exception if the file does not exist\n",
    "try:\n",
    "    with open(\" \",\"w\") as file:\n",
    "         print(\"file opened successfully\")\n",
    "    \n",
    "except FileNotFoundError:\n",
    "    print(\"File not Found\")\n",
    "    "
   ]
  },
  {
   "cell_type": "code",
   "execution_count": 16,
   "id": "6715b24b-d4a7-46ec-8746-fe9d3e30fc9c",
   "metadata": {},
   "outputs": [
    {
     "name": "stdin",
     "output_type": "stream",
     "text": [
      "Enter 1st number 1\n",
      "Enter 2nd number f\n"
     ]
    },
    {
     "name": "stdout",
     "output_type": "stream",
     "text": [
      "Inputs are not numerical\n"
     ]
    }
   ],
   "source": [
    "#program that prompts the user to input two numbers and raises a TypeError exception if the input are not numerical\n",
    "try:\n",
    "    num1=int(input(\"Enter 1st number\"))\n",
    "    num2=int(input(\"Enter 2nd number\"))\n",
    "\n",
    "    Total=num1+num2\n",
    "    print(Total)\n",
    "\n",
    "except ValueError:\n",
    "    print(\"Inputs are not numerical\")\n",
    "    "
   ]
  },
  {
   "cell_type": "code",
   "execution_count": null,
   "id": "355c4c6f-3c9e-48c2-a8da-f1d683d4f2b3",
   "metadata": {},
   "outputs": [],
   "source": []
  }
 ],
 "metadata": {
  "kernelspec": {
   "display_name": "Python 3 (ipykernel)",
   "language": "python",
   "name": "python3"
  },
  "language_info": {
   "codemirror_mode": {
    "name": "ipython",
    "version": 3
   },
   "file_extension": ".py",
   "mimetype": "text/x-python",
   "name": "python",
   "nbconvert_exporter": "python",
   "pygments_lexer": "ipython3",
   "version": "3.13.2"
  }
 },
 "nbformat": 4,
 "nbformat_minor": 5
}
