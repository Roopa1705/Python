{
 "cells": [
  {
   "cell_type": "code",
   "execution_count": 4,
   "id": "f1ba47fe-f1ee-4a7b-9c6f-075cc04e3cec",
   "metadata": {},
   "outputs": [
    {
     "name": "stdout",
     "output_type": "stream",
     "text": [
      "{70, 40, 10, 50, 20, 60, 30}\n"
     ]
    }
   ],
   "source": [
    "#program to get only unique items from two sets\n",
    "set1={10,20,30,40,50}\n",
    "set2={30,40,50,60,70}\n",
    "\n",
    "result=set1.union(set2)\n",
    "print(result)"
   ]
  },
  {
   "cell_type": "code",
   "execution_count": 8,
   "id": "dfa3bf3e-ad2f-46da-8080-957210b7fec4",
   "metadata": {},
   "outputs": [
    {
     "name": "stdout",
     "output_type": "stream",
     "text": [
      "{70, 10, 20, 60}\n"
     ]
    }
   ],
   "source": [
    "#program to return a set of elements present in set A or B,but not in both\n",
    "set1={10,20,30,40,50}\n",
    "set2={30,40,50,60,70}\n",
    "result=set1.difference(set2) | set2.difference(set1)\n",
    "print(result)"
   ]
  },
  {
   "cell_type": "code",
   "execution_count": 10,
   "id": "f61a6947-a338-4b03-baff-6b410d04f87d",
   "metadata": {},
   "outputs": [
    {
     "name": "stdout",
     "output_type": "stream",
     "text": [
      "common elements {10}\n"
     ]
    }
   ],
   "source": [
    "#program to display common elements\n",
    "set1={10,20,30,40,50}\n",
    "set2={60,70,80,90,10}\n",
    "\n",
    "common=set1.intersection(set2)\n",
    "if common:\n",
    "    print(\"common elements\",common)\n",
    "else:\n",
    "    print(\"No coomon elements\")\n"
   ]
  },
  {
   "cell_type": "code",
   "execution_count": 12,
   "id": "1ed32ae6-a83a-4c83-b75a-28d4ce926d3b",
   "metadata": {},
   "outputs": [
    {
     "name": "stdout",
     "output_type": "stream",
     "text": [
      "{40, 50, 30}\n"
     ]
    }
   ],
   "source": [
    "#program to remove items from set1 that are not common to both set1 and set2.\n",
    "set1={10,20,30,40,50}\n",
    "set2={30,40,50,60,70}\n",
    "\n",
    "result=set1.intersection(set2)\n",
    "print(result)"
   ]
  },
  {
   "cell_type": "code",
   "execution_count": null,
   "id": "d6d68142-ed64-4a27-aecc-ad58d8c706a1",
   "metadata": {},
   "outputs": [],
   "source": []
  }
 ],
 "metadata": {
  "kernelspec": {
   "display_name": "Python 3 (ipykernel)",
   "language": "python",
   "name": "python3"
  },
  "language_info": {
   "codemirror_mode": {
    "name": "ipython",
    "version": 3
   },
   "file_extension": ".py",
   "mimetype": "text/x-python",
   "name": "python",
   "nbconvert_exporter": "python",
   "pygments_lexer": "ipython3",
   "version": "3.13.2"
  }
 },
 "nbformat": 4,
 "nbformat_minor": 5
}
