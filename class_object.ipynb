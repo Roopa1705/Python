{
 "cells": [
  {
   "cell_type": "code",
   "execution_count": 10,
   "id": "1dc33faf-9e6d-4197-afa8-57457e64342d",
   "metadata": {},
   "outputs": [
    {
     "name": "stdout",
     "output_type": "stream",
     "text": [
      "Name: ROOPA, Age: 20\n",
      "Marks: {'Math': 85, 'Science': 90}\n",
      "Average Marks: 87.5\n"
     ]
    }
   ],
   "source": [
    "#Program to implement Student Management System \n",
    "class student:\n",
    "    def __init__(self,name,age):\n",
    "         self.name=name\n",
    "         self.age=age\n",
    "         self.marks={ }\n",
    "        \n",
    "    def add_marks(self,subject,mark):\n",
    "        self.marks[subject]=mark\n",
    "        \n",
    "    def get_average_marks(self):\n",
    "      if not self.marks:\n",
    "          return 0\n",
    "      return sum(self.marks.values()) / len(self.marks)\n",
    "    def display_student_info(self):\n",
    "        \n",
    "        print(f\"Name: {self.name}, Age: {self.age}\")\n",
    "        print(\"Marks:\", self.marks)\n",
    "        print(f\"Average Marks: {self.get_average_marks()}\")\n",
    "\n",
    "student1 = student(\"ROOPA\", 20)\n",
    "student1.add_marks(\"Math\", 85)\n",
    "student1.add_marks(\"Science\", 90)\n",
    "student1.display_student_info()\n",
    "\n",
    "    "
   ]
  },
  {
   "cell_type": "code",
   "execution_count": 11,
   "id": "76dc1c3a-eee1-490b-91b3-8a6baa68987a",
   "metadata": {},
   "outputs": [
    {
     "name": "stdout",
     "output_type": "stream",
     "text": [
      "Name: ROOPA, Position: Software Engineer, Salary: $60000.00\n",
      "ROOPA has been promoted to Senior Software Engineer.\n",
      "ROOPA's new salary is $80000.00.\n",
      "Name: ROOPA, Position: Senior Software Engineer, Salary: $80000.00\n"
     ]
    }
   ],
   "source": [
    "#Program to implement Employee Management System \n",
    "class Employee:\n",
    "    def __init__(self, name, position, salary):\n",
    "        self.name = name\n",
    "        self.position = position\n",
    "        self.salary = salary\n",
    "\n",
    "    def promote(self, new_position):\n",
    "       \n",
    "        self.position = new_position\n",
    "        print(f\"{self.name} has been promoted to {self.position}.\")\n",
    "\n",
    "    def update_salary(self, new_salary):\n",
    "       \n",
    "        self.salary = new_salary\n",
    "        print(f\"{self.name}'s new salary is ${self.salary:.2f}.\")\n",
    "\n",
    "    def display_info(self):\n",
    "        \n",
    "        print(f\"Name: {self.name}, Position: {self.position}, Salary: ${self.salary:.2f}\")\n",
    "\n",
    "\n",
    "employee1 = Employee(\"ROOPA\", \"Software Engineer\", 60000)\n",
    "employee1.display_info()\n",
    "employee1.promote(\"Senior Software Engineer\")\n",
    "employee1.update_salary(80000)\n",
    "employee1.display_info()"
   ]
  },
  {
   "cell_type": "code",
   "execution_count": null,
   "id": "5cf845b3-6317-4da5-a517-b4e1eb370497",
   "metadata": {},
   "outputs": [],
   "source": []
  }
 ],
 "metadata": {
  "kernelspec": {
   "display_name": "Python 3 (ipykernel)",
   "language": "python",
   "name": "python3"
  },
  "language_info": {
   "codemirror_mode": {
    "name": "ipython",
    "version": 3
   },
   "file_extension": ".py",
   "mimetype": "text/x-python",
   "name": "python",
   "nbconvert_exporter": "python",
   "pygments_lexer": "ipython3",
   "version": "3.13.2"
  }
 },
 "nbformat": 4,
 "nbformat_minor": 5
}
