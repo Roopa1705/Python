{
 "cells": [
  {
   "cell_type": "code",
   "execution_count": 1,
   "id": "44041bd1-399c-46b9-93ae-0d04a36592a5",
   "metadata": {},
   "outputs": [
    {
     "name": "stdout",
     "output_type": "stream",
     "text": [
      "3.0\n",
      "Invalid\n"
     ]
    }
   ],
   "source": [
    "#Write a decorator that ensures that all input arguments to a function are non-negative integers.\n",
    "\n",
    "def non_negative_args(func):\n",
    "    def wrapper(*args):\n",
    "        if all(isinstance(arg, int) and arg >= 0 for arg in args):\n",
    "            return func(*args)\n",
    "        else:\n",
    "            return \"Invalid\"\n",
    "    return wrapper\n",
    "\n",
    "@non_negative_args\n",
    "def calculate_square_root(x):\n",
    "    return x ** 0.5\n",
    "\n",
    "\n",
    "print(calculate_square_root(9))  \n",
    "print(calculate_square_root(-9))  "
   ]
  },
  {
   "cell_type": "code",
   "execution_count": 2,
   "id": "c8816606-ed6a-415c-8c9c-cc3274b6e739",
   "metadata": {},
   "outputs": [
    {
     "name": "stdout",
     "output_type": "stream",
     "text": [
      "Hello!\n",
      "Hello!\n",
      "Hello!\n"
     ]
    }
   ],
   "source": [
    "#Write a decorator that repeats the execution of a function a specified number of times.\n",
    "\n",
    "def repeat(n):\n",
    "    def decorator(func):\n",
    "        def wrapper(*args, **kwargs):\n",
    "            for _ in range(n):\n",
    "                func(*args, **kwargs)\n",
    "        return wrapper\n",
    "    return decorator\n",
    "\n",
    "@repeat(3)\n",
    "def say_hello():\n",
    "    print(\"Hello!\")\n",
    "\n",
    "\n",
    "say_hello()\n"
   ]
  },
  {
   "cell_type": "code",
   "execution_count": null,
   "id": "23c49d6c-24a9-426a-8984-c7b411906e38",
   "metadata": {},
   "outputs": [],
   "source": []
  }
 ],
 "metadata": {
  "kernelspec": {
   "display_name": "Python 3 (ipykernel)",
   "language": "python",
   "name": "python3"
  },
  "language_info": {
   "codemirror_mode": {
    "name": "ipython",
    "version": 3
   },
   "file_extension": ".py",
   "mimetype": "text/x-python",
   "name": "python",
   "nbconvert_exporter": "python",
   "pygments_lexer": "ipython3",
   "version": "3.13.2"
  }
 },
 "nbformat": 4,
 "nbformat_minor": 5
}
