{
 "cells": [
  {
   "cell_type": "code",
   "execution_count": 1,
   "id": "ab0290c5-f181-4ae6-a27c-fd875d7ab151",
   "metadata": {},
   "outputs": [],
   "source": [
    "import csv"
   ]
  },
  {
   "cell_type": "code",
   "execution_count": 4,
   "id": "14506cbd-6060-47dd-91d6-c0e015e0502e",
   "metadata": {},
   "outputs": [
    {
     "name": "stdout",
     "output_type": "stream",
     "text": [
      "['Name', 'Email', 'Event Alice Johnson', 'alice.johnson@example.com', 'Tech Talk Bob']\n",
      "[' Smith', 'bob.smith@example.com', 'Art Workshop Charlie']\n",
      "[' Davis', 'charlie.davis@example.com', 'MusicÂ\\xa0Performance']\n"
     ]
    }
   ],
   "source": [
    "DEFAULT_VALUE = \"Unknown\"\n",
    "\n",
    "\n",
    "def process_csv(file_path):\n",
    "    with open(\"file.csv\", 'r') as file:\n",
    "        reader = csv.reader(file)\n",
    "        data = [row for row in reader]\n",
    "\n",
    "    \n",
    "    processed_data = [[col if col.strip() else DEFAULT_VALUE for col in row] for row in data]\n",
    "\n",
    "   \n",
    "    for row in processed_data:\n",
    "        print(row)\n",
    "\n",
    "process_csv('missing_data.csv')"
   ]
  },
  {
   "cell_type": "code",
   "execution_count": 17,
   "id": "272e74a2-a276-4f6f-b6c2-2eace208b72b",
   "metadata": {},
   "outputs": [],
   "source": [
    "import json"
   ]
  },
  {
   "cell_type": "code",
   "execution_count": null,
   "id": "53d55fe4-0dea-43c1-99bc-d891a0a613b3",
   "metadata": {},
   "outputs": [],
   "source": [
    "REQUIRED_FIELDS = {\n",
    "    \"Product ID\": int,\n",
    "    \"Name\": str,\n",
    "    \"Price\": float\n",
    "}\n",
    "\n",
    "\n",
    "def validate_json(file_path):\n",
    "    with open(file_path, 'r') as file:\n",
    "        data = json.load(file)\n",
    "\n",
    "    for item in data:\n",
    "        for field, expected_type in REQUIRED_FIELDS.items():\n",
    "            if field not in item:\n",
    "                print(f\"Missing field: {field}\")\n",
    "            elif not isinstance(item[field], expected_type):\n",
    "                print(f\"Invalid {field}: {item[field]}\")\n",
    "\n",
    "\n",
    "validate_json('data.json')"
   ]
  }
 ],
 "metadata": {
  "kernelspec": {
   "display_name": "Python 3 (ipykernel)",
   "language": "python",
   "name": "python3"
  },
  "language_info": {
   "codemirror_mode": {
    "name": "ipython",
    "version": 3
   },
   "file_extension": ".py",
   "mimetype": "text/x-python",
   "name": "python",
   "nbconvert_exporter": "python",
   "pygments_lexer": "ipython3",
   "version": "3.13.2"
  }
 },
 "nbformat": 4,
 "nbformat_minor": 5
}
