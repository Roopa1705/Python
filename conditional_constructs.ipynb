{
 "cells": [
  {
   "cell_type": "code",
   "execution_count": 5,
   "id": "10664705-e439-4c8c-8f5e-c61c2c32899c",
   "metadata": {},
   "outputs": [
    {
     "name": "stdin",
     "output_type": "stream",
     "text": [
      "Enter the year 2028\n"
     ]
    },
    {
     "name": "stdout",
     "output_type": "stream",
     "text": [
      "Leap year\n"
     ]
    }
   ],
   "source": [
    "#python program to check leap year\n",
    "year=int(input(\"Enter the year\"))\n",
    "if year%4==0:\n",
    "    print(\"Leap year\")\n",
    "else:\n",
    "    print(\"Not Leap year\")"
   ]
  },
  {
   "cell_type": "code",
   "execution_count": 2,
   "id": "3f77fe36-9d1a-4236-b7da-288142b2136b",
   "metadata": {},
   "outputs": [
    {
     "name": "stdin",
     "output_type": "stream",
     "text": [
      "Enter 1st number 25\n",
      "Enter 2nd number 35\n",
      "Enter 3rd number 65\n"
     ]
    },
    {
     "name": "stdout",
     "output_type": "stream",
     "text": [
      "65 is greater\n"
     ]
    }
   ],
   "source": [
    "#program to find lanrgest among three numbers\n",
    "\n",
    "num1=int(input(\"Enter 1st number\"))\n",
    "num2=int(input(\"Enter 2nd number\"))\n",
    "num3=int(input(\"Enter 3rd number\"))\n",
    "\n",
    "if num1>num2 and num1>num3:\n",
    "    print(f\"{num1} is greater\")\n",
    "elif num2>num1 and num2>num3:\n",
    "    print(f\"{num2} is greater\")\n",
    "elif num3>num1 and num3>num1:\n",
    "    print(f\"{num3} is greater\")"
   ]
  },
  {
   "cell_type": "code",
   "execution_count": 14,
   "id": "0e6d86c5-4e93-41df-a181-1f77127d2112",
   "metadata": {},
   "outputs": [
    {
     "name": "stdin",
     "output_type": "stream",
     "text": [
      "Enter a number 0\n"
     ]
    },
    {
     "name": "stdout",
     "output_type": "stream",
     "text": [
      "0 is zero\n"
     ]
    }
   ],
   "source": [
    "#program to check if a number is positive,negetive or zero\n",
    "\n",
    "num=int(input(\"Enter a number\"))\n",
    "\n",
    "if num>0:\n",
    "    print(f\"{num} is Positive\")\n",
    "elif num<0:\n",
    "    print(f\"{num} is Negetive\")\n",
    "elif num==0:\n",
    "     print(f\"{num} is zero\")\n",
    "    \n",
    "    \n",
    "\n"
   ]
  },
  {
   "cell_type": "code",
   "execution_count": 25,
   "id": "b5d359b9-12e2-4d96-a5d1-dae4d40ae531",
   "metadata": {},
   "outputs": [
    {
     "name": "stdin",
     "output_type": "stream",
     "text": [
      "Enter the total amount for 1  1200\n",
      "Enter the total amount for 2 120\n",
      "Enter the total amount for 3  420\n"
     ]
    },
    {
     "name": "stdout",
     "output_type": "stream",
     "text": [
      "1080.0\n",
      "114.0\n",
      "420\n"
     ]
    }
   ],
   "source": [
    "#A toy vendor supplies three types of toys:Battery Based toys,Key based toys,Electrical carging based toys.\n",
    "#The vendor give the discount of 10% on orders for battery based toys if the order is more than Rs 1000.\n",
    "#on orders of more than Rs 100 for key based toys,a discount of 5% is given, and a discunt of 10% is given on orders for electrical charging based toys\n",
    "#of value more than Rs 500.Assume that the numeric codes 1,2 and 3 are used for respective toys. write a program that reads a product code and the order \n",
    "#amount and prints out the net amount that the customer is required to pay after the discount. \n",
    "toy1=int(input(\"Enter the total amount for 1 \"))\n",
    "toy2=int(input(\"Enter the total amount for 2\"))\n",
    "toy3=int(input(\"Enter the total amount for 3 \"))\n",
    "\n",
    "if toy1>1000:\n",
    "    discount=(10/100)*toy1\n",
    "    Final_price=toy1-discount\n",
    "    print(Final_price)\n",
    "else:\n",
    "    print(toy1)\n",
    "if toy2>100:\n",
    "    discount=(5/100)*toy2\n",
    "    Final_price=toy2-discount\n",
    "    print(Final_price)\n",
    "else:\n",
    "     print(toy2)\n",
    "if toy3>500:\n",
    "    discount=(10/100)*toy1\n",
    "    Final_price=toy3-discount\n",
    "    print(Final_price)\n",
    "else:\n",
    "     print(toy3)\n"
   ]
  },
  {
   "cell_type": "code",
   "execution_count": 24,
   "id": "07e32180-1ed4-4cea-8c5e-7ff0ce1b7329",
   "metadata": {},
   "outputs": [
    {
     "name": "stdin",
     "output_type": "stream",
     "text": [
      "Enter the Distance 95\n"
     ]
    },
    {
     "name": "stdout",
     "output_type": "stream",
     "text": [
      "Rs 10/km\n"
     ]
    }
   ],
   "source": [
    "# a transport company charges the fare according to folowing\n",
    "#1-50 8rs/km,51-100 10 rs/km,>100 12rs/km\n",
    "\n",
    "distance=int(input(\"Enter the Distance\"))\n",
    "\n",
    "if distance>1 and distance<50:\n",
    "    print(\"Rs 8/km\")\n",
    "elif distance>51 and distance<100:\n",
    "     print(\"Rs 10/km\")\n",
    "elif distance>100:\n",
    "    print(\"Rs 12/km\")"
   ]
  }
 ],
 "metadata": {
  "kernelspec": {
   "display_name": "Python 3 (ipykernel)",
   "language": "python",
   "name": "python3"
  },
  "language_info": {
   "codemirror_mode": {
    "name": "ipython",
    "version": 3
   },
   "file_extension": ".py",
   "mimetype": "text/x-python",
   "name": "python",
   "nbconvert_exporter": "python",
   "pygments_lexer": "ipython3",
   "version": "3.13.2"
  }
 },
 "nbformat": 4,
 "nbformat_minor": 5
}
