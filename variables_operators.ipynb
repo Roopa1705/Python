{
 "cells": [
  {
   "cell_type": "code",
   "execution_count": 10,
   "id": "43aa1565-37ed-4091-8348-cac88b806f84",
   "metadata": {},
   "outputs": [
    {
     "name": "stdin",
     "output_type": "stream",
     "text": [
      "enter your age 23\n"
     ]
    },
    {
     "name": "stdout",
     "output_type": "stream",
     "text": [
      "24\n"
     ]
    }
   ],
   "source": [
    "#using input function take a age from user and print adding 1 to age\n",
    "\n",
    "age= int(input(\"enter your age\"))\n",
    "age+=1 #adding age+1\n",
    "print (age)"
   ]
  },
  {
   "cell_type": "code",
   "execution_count": 27,
   "id": "4a83d436-4b57-486a-a310-f2cb091a1c45",
   "metadata": {},
   "outputs": [
    {
     "name": "stdout",
     "output_type": "stream",
     "text": [
      "b is largest number\n"
     ]
    }
   ],
   "source": [
    "#Declare 2 variables and print that which varable is largest using ternary operators\n",
    "a=10\n",
    "b=20\n",
    "\n",
    "if a>b:\n",
    "    print (\"a is largest number\")\n",
    "    \n",
    "else:\n",
    "\n",
    "    print (\"b is largest number\")"
   ]
  },
  {
   "cell_type": "code",
   "execution_count": 22,
   "id": "c7d09bfc-7d87-4c28-81e9-2c3e5c992fe9",
   "metadata": {},
   "outputs": [
    {
     "name": "stdout",
     "output_type": "stream",
     "text": [
      "5\n",
      "6\n"
     ]
    }
   ],
   "source": [
    "#calculate the multiplication and sum of two numbers\n",
    "\n",
    "def add(a,b):\n",
    "    return a+b\n",
    "    \n",
    "def mul(d,e):\n",
    "    return d*e\n",
    "     \n",
    "result= add(2,3)\n",
    "result1= mul(2,3)\n",
    "\n",
    "print(result)\n",
    "print(result1)"
   ]
  },
  {
   "cell_type": "code",
   "execution_count": 5,
   "id": "331d60d4-f2f2-45da-aaaa-827a8e6a9513",
   "metadata": {},
   "outputs": [
    {
     "name": "stdin",
     "output_type": "stream",
     "text": [
      "enter the celsius 30\n"
     ]
    },
    {
     "name": "stdout",
     "output_type": "stream",
     "text": [
      "86.0\n"
     ]
    }
   ],
   "source": [
    "#program to convert the temperature in degree centigrade to fahrenheit\n",
    "celsius=int(input(\"enter the celsius\"))\n",
    "fahrenheit=(celsius*9/5)+32\n",
    "print (fahrenheit)\n",
    "\n",
    "    "
   ]
  },
  {
   "cell_type": "code",
   "execution_count": 6,
   "id": "0eebe63d-1b40-42ad-9a50-98029b6e1854",
   "metadata": {},
   "outputs": [
    {
     "name": "stdout",
     "output_type": "stream",
     "text": [
      "100.0\n"
     ]
    }
   ],
   "source": [
    "#To find the area of a triangle whose sides are given\n",
    "base= 20\n",
    "height= 10\n",
    "\n",
    "area= 1/2*base*height\n",
    "\n",
    "print (area)\n"
   ]
  },
  {
   "cell_type": "code",
   "execution_count": null,
   "id": "ebbf14a3-22ff-4d50-9619-bd90a67f2f50",
   "metadata": {},
   "outputs": [],
   "source": []
  }
 ],
 "metadata": {
  "kernelspec": {
   "display_name": "Python 3 (ipykernel)",
   "language": "python",
   "name": "python3"
  },
  "language_info": {
   "codemirror_mode": {
    "name": "ipython",
    "version": 3
   },
   "file_extension": ".py",
   "mimetype": "text/x-python",
   "name": "python",
   "nbconvert_exporter": "python",
   "pygments_lexer": "ipython3",
   "version": "3.13.2"
  }
 },
 "nbformat": 4,
 "nbformat_minor": 5
}
