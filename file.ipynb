{
 "cells": [
  {
   "cell_type": "code",
   "execution_count": 1,
   "id": "c92abed5-cf1d-4728-941d-ba5f2b6a7245",
   "metadata": {},
   "outputs": [
    {
     "name": "stdout",
     "output_type": "stream",
     "text": [
      "Error: The file 'ABC.txt' was not found.\n"
     ]
    }
   ],
   "source": [
    "#Python function to read the content of \"ABC.txt\" line by line and display it on the screen:\n",
    "def read_file(filename):\n",
    "    try:\n",
    "        with open(filename, 'r') as file:\n",
    "            for line in file:\n",
    "                print(line.strip())  \n",
    "    except FileNotFoundError:\n",
    "        print(f\"Error: The file '{filename}' was not found.\")\n",
    "\n",
    "read_file(\"ABC.txt\")"
   ]
  },
  {
   "cell_type": "code",
   "execution_count": 3,
   "id": "15ffa75b-4f0a-41e1-ad59-98595f69e688",
   "metadata": {},
   "outputs": [
    {
     "name": "stdout",
     "output_type": "stream",
     "text": [
      "Name,Email,Event Alice Johnson,alice.johnson@example.com,Tech Talk Bob\n",
      "Smith,bob.smith@example.com,Art Workshop Charlie\n",
      "Davis,charlie.davis@example.com,MusicÂ Performance\n"
     ]
    }
   ],
   "source": [
    "#Python function to read the content of \"ABC.txt\" line by line and display it on the screen:\n",
    "def read_file(filename):\n",
    "    try:\n",
    "        with open(filename, 'r') as file:\n",
    "            for line in file:\n",
    "                print(line.strip())  \n",
    "    except FileNotFoundError:\n",
    "        print(f\"Error: The file '{filename}' was not found.\")\n",
    "\n",
    "read_file(\"file.csv\")"
   ]
  },
  {
   "cell_type": "code",
   "execution_count": 5,
   "id": "a9daffc3-e6f8-4b09-81b0-bf491ad71f0b",
   "metadata": {},
   "outputs": [
    {
     "name": "stdout",
     "output_type": "stream",
     "text": [
      "Total number of words in 'file.csv': 10\n"
     ]
    }
   ],
   "source": [
    "#Python function to count and display the total number of words in \"file.csv\":\n",
    "def count_words_in_file(filename):\n",
    "    try:\n",
    "        with open(filename, 'r') as file:\n",
    "            total_words = 0\n",
    "            for line in file:\n",
    "                words = line.split() \n",
    "                total_words += len(words) \n",
    "            print(f\"Total number of words in '{filename}': {total_words}\")\n",
    "    except FileNotFoundError:\n",
    "        print(f\"Error: The file '{filename}' was not found.\")\n",
    "\n",
    "count_words_in_file(\"file.csv\")"
   ]
  },
  {
   "cell_type": "code",
   "execution_count": null,
   "id": "430f0978-3f0c-4e0a-a276-d28c6c33dd7d",
   "metadata": {},
   "outputs": [],
   "source": []
  }
 ],
 "metadata": {
  "kernelspec": {
   "display_name": "Python 3 (ipykernel)",
   "language": "python",
   "name": "python3"
  },
  "language_info": {
   "codemirror_mode": {
    "name": "ipython",
    "version": 3
   },
   "file_extension": ".py",
   "mimetype": "text/x-python",
   "name": "python",
   "nbconvert_exporter": "python",
   "pygments_lexer": "ipython3",
   "version": "3.13.2"
  }
 },
 "nbformat": 4,
 "nbformat_minor": 5
}
