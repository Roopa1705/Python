{
 "cells": [
  {
   "cell_type": "code",
   "execution_count": 1,
   "id": "93ec934c-829b-4783-af89-6e4e91ea6f85",
   "metadata": {},
   "outputs": [
    {
     "name": "stdout",
     "output_type": "stream",
     "text": [
      "mean of the dictionary values: 6.2\n"
     ]
    }
   ],
   "source": [
    "#program and calculate mean for the below dictionary\n",
    "\n",
    "test_dict= {\"A\":6, \"B\":9, \"C\":5, \"D\":7, \"E\":4}\n",
    "\n",
    "mean_value=sum(test_dict.values())/len(test_dict) #calculate the mean\n",
    "\n",
    "print(\"mean of the dictionary values:\",mean_value) #print the result"
   ]
  },
  {
   "cell_type": "code",
   "execution_count": 20,
   "id": "687636f5-ef4b-426a-bcb6-c07b209cd871",
   "metadata": {},
   "outputs": [
    {
     "name": "stdout",
     "output_type": "stream",
     "text": [
      "Key    Value\n",
      "1      10\n",
      "2      20\n",
      "3      30\n",
      "4      40\n",
      "5      50\n",
      "6      60\n"
     ]
    }
   ],
   "source": [
    "#program to get the key,value and the item in the dictionary\n",
    "\n",
    "dict_num={1:10, 2:20, 3:30, 4:40, 5:50, 6:60}\n",
    "\n",
    "print(\"Key    Value\")\n",
    "\n",
    "for key,value in dict_num.items():\n",
    "    print(f\"{key:<6} {value}\")# displaying key and values\n"
   ]
  },
  {
   "cell_type": "code",
   "execution_count": 6,
   "id": "7384cb1d-fbe5-4f5a-aaa8-02a54b0725bd",
   "metadata": {},
   "outputs": [
    {
     "name": "stdout",
     "output_type": "stream",
     "text": [
      "concatented dictionary: {1: 10, 2: 20, 3: 30, 4: 40, 5: 50, 6: 60}\n"
     ]
    }
   ],
   "source": [
    "#progrm to script to concatenaate the following dictionaries\n",
    "\n",
    "dict1= {1:10, 2:20 }\n",
    "dict2= {3:30, 4:40 }\n",
    "dict3= {5:50, 6:60 }\n",
    "\n",
    "concatenated_dict= {**dict1, **dict2, **dict3}#concatenate all the dictionaries\n",
    "\n",
    "print(\"concatented dictionary:\", concatenated_dict)"
   ]
  },
  {
   "cell_type": "code",
   "execution_count": 8,
   "id": "11460e37-a8c5-47cd-a78a-30a0b23f03e8",
   "metadata": {},
   "outputs": [
    {
     "name": "stdout",
     "output_type": "stream",
     "text": [
      "Dictionary after dropping empty items: {1: 10, 2: 20, 4: 40, 5: 50}\n"
     ]
    }
   ],
   "source": [
    "#program to get the key,value and the item in the dictionary\n",
    "\n",
    "dict_data={1:10,2:20, 3: None, 4:40, 5:50}\n",
    "\n",
    "cleaned_dict= {key: value for key, value in dict_data.items() if value}\n",
    "\n",
    "print(\"Dictionary after dropping empty items:\", cleaned_dict)"
   ]
  },
  {
   "cell_type": "code",
   "execution_count": null,
   "id": "e1864586-1277-4ba7-99f1-ff3e97dbc766",
   "metadata": {},
   "outputs": [],
   "source": []
  }
 ],
 "metadata": {
  "kernelspec": {
   "display_name": "Python 3 (ipykernel)",
   "language": "python",
   "name": "python3"
  },
  "language_info": {
   "codemirror_mode": {
    "name": "ipython",
    "version": 3
   },
   "file_extension": ".py",
   "mimetype": "text/x-python",
   "name": "python",
   "nbconvert_exporter": "python",
   "pygments_lexer": "ipython3",
   "version": "3.13.2"
  }
 },
 "nbformat": 4,
 "nbformat_minor": 5
}
