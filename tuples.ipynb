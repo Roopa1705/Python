{
 "cells": [
  {
   "cell_type": "code",
   "execution_count": 3,
   "id": "edc118af-8a36-4d24-b441-a6ea382896f8",
   "metadata": {},
   "outputs": [
    {
     "name": "stdout",
     "output_type": "stream",
     "text": [
      "3\n"
     ]
    }
   ],
   "source": [
    "#program to find the number of times 4 appears in the tuple\n",
    "\n",
    "t=(2,4,5,6,2,3,4,4,7)\n",
    "\n",
    "count= t.count(4) #counting number of times 4 appears\n",
    "print (count)"
   ]
  },
  {
   "cell_type": "code",
   "execution_count": 4,
   "id": "8b0f2c3b-7844-43d4-9724-6efeb715a0da",
   "metadata": {},
   "outputs": [
    {
     "name": "stdout",
     "output_type": "stream",
     "text": [
      "(5, 10, 7, 4, 15, 3)\n"
     ]
    }
   ],
   "source": [
    "#program to covert list into tuple\n",
    "list=[5,10,7,4,15,3]\n",
    "\n",
    "result=tuple(list) # converting list to tuple\n",
    "print(result)"
   ]
  },
  {
   "cell_type": "code",
   "execution_count": 41,
   "id": "c99d9e79-1c68-41bd-a12e-dd633cac5dd6",
   "metadata": {},
   "outputs": [
    {
     "name": "stdout",
     "output_type": "stream",
     "text": [
      "21\n"
     ]
    }
   ],
   "source": [
    "#program to calculate the sum of numbers in the given tuple\n",
    "\n",
    "tupple=[(1,2),(3,4),(5,6)]\n",
    "\n",
    "total=sum(sum(t) for t in tupple) # sum of te tuple\n",
    "\n",
    "print(total)"
   ]
  },
  {
   "cell_type": "code",
   "execution_count": 47,
   "id": "ef0edeb5-95ad-42b7-b8f2-19edfeaee998",
   "metadata": {},
   "outputs": [
    {
     "name": "stdout",
     "output_type": "stream",
     "text": [
      "Employee Records\n",
      "Employee: John Doe\n",
      "Code: 101\n",
      "department: Human Resources\n",
      "Salary: 60000\n",
      "\n",
      "\n",
      "Employee: Alice Smith\n",
      "Code: 102\n",
      "department: Marketing\n",
      "Salary: 55000\n",
      "\n",
      "\n",
      "Employee: Bob Johnson\n",
      "Code: 103\n",
      "department: Engineering\n",
      "Salary: 75000\n"
     ]
    }
   ],
   "source": [
    "#program to iterate the given tuple\n",
    "\n",
    "employee1=(\"John Doe\", \"101\", \"Human Resources\", \"60000\")\n",
    "employee2=(\"Alice Smith\", \"102\", \"Marketing\", \"55000\")\n",
    "employee3=(\"Bob Johnson\", \"103\", \"Engineering\", \"75000\")\n",
    "\n",
    "print(\"Employee Records\")\n",
    "\n",
    "print(\"Employee:\", employee1[0])\n",
    "print(\"Code:\",employee1[1])\n",
    "print(\"department:\",employee1[2])\n",
    "print(\"Salary:\",employee1[3])\n",
    "print(\"\\n\")\n",
    "print(\"Employee:\", employee2[0])\n",
    "print(\"Code:\",employee2[1])\n",
    "print(\"department:\",employee2[2])\n",
    "print(\"Salary:\",employee2[3])\n",
    "print(\"\\n\")\n",
    "print(\"Employee:\", employee3[0])\n",
    "print(\"Code:\",employee3[1])\n",
    "print(\"department:\",employee3[2])\n",
    "print(\"Salary:\",employee3[3])"
   ]
  },
  {
   "cell_type": "code",
   "execution_count": null,
   "id": "b94b9d5a-7774-46d1-ae05-066228d82c80",
   "metadata": {},
   "outputs": [],
   "source": []
  }
 ],
 "metadata": {
  "kernelspec": {
   "display_name": "Python 3 (ipykernel)",
   "language": "python",
   "name": "python3"
  },
  "language_info": {
   "codemirror_mode": {
    "name": "ipython",
    "version": 3
   },
   "file_extension": ".py",
   "mimetype": "text/x-python",
   "name": "python",
   "nbconvert_exporter": "python",
   "pygments_lexer": "ipython3",
   "version": "3.13.2"
  }
 },
 "nbformat": 4,
 "nbformat_minor": 5
}
