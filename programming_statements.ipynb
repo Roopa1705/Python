{
 "cells": [
  {
   "cell_type": "code",
   "execution_count": 2,
   "id": "183f2e32-34cd-4fe4-af03-14df7fe40fcd",
   "metadata": {},
   "outputs": [
    {
     "name": "stdin",
     "output_type": "stream",
     "text": [
      "enter a number 3\n"
     ]
    },
    {
     "name": "stdout",
     "output_type": "stream",
     "text": [
      "numer is odd\n"
     ]
    }
   ],
   "source": [
    "#using input() take one number from the user and using ternary check whether the number is even or odd\n",
    "number=int(input(\"enter a number\"))\n",
    "if number%2==0:\n",
    "    print(\"number is even\")\n",
    "else:\n",
    "    print(\"numer is odd\")"
   ]
  },
  {
   "cell_type": "code",
   "execution_count": 22,
   "id": "30e92125-e215-4977-9af8-530567380588",
   "metadata": {},
   "outputs": [
    {
     "name": "stdin",
     "output_type": "stream",
     "text": [
      "enter first number 5\n",
      "enter second number 10\n"
     ]
    },
    {
     "name": "stdout",
     "output_type": "stream",
     "text": [
      "AFTER SWAPPING\n",
      "num1 10\n",
      "num2 5\n"
     ]
    }
   ],
   "source": [
    "#using input function take two numbers and then swap the numbers\n",
    "num1=int(input(\"enter first number\"))\n",
    "num2=int(input(\"enter second number\"))\n",
    "temp=num1\n",
    "num1=num2\n",
    "num2=temp\n",
    "print(\"AFTER SWAPPING\")\n",
    "print(\"num1\",num1)\n",
    "print(\"num2\",num2)\n",
    "            "
   ]
  },
  {
   "cell_type": "code",
   "execution_count": 18,
   "id": "8926c6a2-4d73-45ef-b1b6-f7f56bd6ab77",
   "metadata": {},
   "outputs": [
    {
     "name": "stdin",
     "output_type": "stream",
     "text": [
      "Enter the Kilometer 10\n"
     ]
    },
    {
     "name": "stdout",
     "output_type": "stream",
     "text": [
      "KM is equal to: 6.21371\n"
     ]
    }
   ],
   "source": [
    "#program to convert kilometers to miles\n",
    "KM=float(input(\"Enter the Kilometer\"))\n",
    "miles=KM*0.621371\n",
    "print(\"KM is equal to:\",miles)\n",
    "         "
   ]
  },
  {
   "cell_type": "code",
   "execution_count": 20,
   "id": "c6af7051-b0ec-4285-be31-946199b1a319",
   "metadata": {},
   "outputs": [
    {
     "name": "stdout",
     "output_type": "stream",
     "text": [
      "20.0\n"
     ]
    }
   ],
   "source": [
    "#simple interst on Rs 200 for 5 years at 5% per year\n",
    "P=200\n",
    "R=5\n",
    "T=2\n",
    "\n",
    "SI=(P*T*R)/100\n",
    "print(SI)\n"
   ]
  },
  {
   "cell_type": "code",
   "execution_count": null,
   "id": "0a5c19ec-2b24-4af9-b14e-2764a0a10484",
   "metadata": {},
   "outputs": [],
   "source": []
  }
 ],
 "metadata": {
  "kernelspec": {
   "display_name": "Python 3 (ipykernel)",
   "language": "python",
   "name": "python3"
  },
  "language_info": {
   "codemirror_mode": {
    "name": "ipython",
    "version": 3
   },
   "file_extension": ".py",
   "mimetype": "text/x-python",
   "name": "python",
   "nbconvert_exporter": "python",
   "pygments_lexer": "ipython3",
   "version": "3.13.2"
  }
 },
 "nbformat": 4,
 "nbformat_minor": 5
}
