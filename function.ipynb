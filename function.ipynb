{
 "cells": [
  {
   "cell_type": "code",
   "execution_count": 5,
   "id": "824b6258-d881-46d3-9c1d-f6f88a4de680",
   "metadata": {},
   "outputs": [
    {
     "name": "stdout",
     "output_type": "stream",
     "text": [
      "5.0\n"
     ]
    }
   ],
   "source": [
    "#declare div() function with 2 parameters.Then call the function and pass two numbers and display their division\n",
    "def division(a,b):\n",
    " result=a/b\n",
    " return result\n",
    "\n",
    "div=division(10,2)\n",
    "print(div)"
   ]
  },
  {
   "cell_type": "code",
   "execution_count": 6,
   "id": "1b3b0cc9-20d1-4f6a-bb05-1babf20c2909",
   "metadata": {},
   "outputs": [],
   "source": [
    "import math\n"
   ]
  },
  {
   "cell_type": "code",
   "execution_count": 7,
   "id": "6265422b-9891-4ad8-b277-52ee7da220ba",
   "metadata": {},
   "outputs": [
    {
     "name": "stdout",
     "output_type": "stream",
     "text": [
      "1.4142135623730951\n"
     ]
    }
   ],
   "source": [
    "#declare a square() with one parameters.Then call the function and pass one number and display square of that number\n",
    "def sqrt(a):\n",
    "    result=math.sqrt(a)\n",
    "    return result\n",
    "\n",
    "square=sqrt(2)\n",
    "print(square)"
   ]
  },
  {
   "cell_type": "code",
   "execution_count": 13,
   "id": "3ac46149-a7b1-41a4-b699-19b354605a27",
   "metadata": {},
   "outputs": [
    {
     "name": "stdout",
     "output_type": "stream",
     "text": [
      "10\n",
      "2\n"
     ]
    }
   ],
   "source": [
    "#using max() and min() display the maximum and minimum of 5 random numbers.\n",
    "\n",
    "number={2,5,8,3,10}\n",
    "max= max(number)\n",
    "min= min(number)\n",
    "print(max)\n",
    "print(min)"
   ]
  },
  {
   "cell_type": "code",
   "execution_count": 28,
   "id": "a86b171d-386d-49e9-b181-8a20894b3efa",
   "metadata": {},
   "outputs": [
    {
     "name": "stdin",
     "output_type": "stream",
     "text": [
      "Enter the name ROOPA\n"
     ]
    },
    {
     "name": "stdout",
     "output_type": "stream",
     "text": [
      "roopa\n"
     ]
    }
   ],
   "source": [
    "#accept a name from user and display that in lower case using lower() function.\n",
    "Name=input(\"Enter the name\")\n",
    "result=Name.lower()\n",
    "\n",
    "print(result)"
   ]
  },
  {
   "cell_type": "code",
   "execution_count": 32,
   "id": "aadae452-9a36-4ed9-a6c9-01f08e56122c",
   "metadata": {},
   "outputs": [
    {
     "name": "stdout",
     "output_type": "stream",
     "text": [
      "zero\n"
     ]
    }
   ],
   "source": [
    "#write a lambda function that takes one argument and returns 'positive' if the number is greater than zero,'negetive' if it less \n",
    "#than zero snd 'zero' if it is zero.\n",
    "num=lambda x:'positive' if x>0 else ('negetive' if x<0 else 'zero')\n",
    "result=num(0)\n",
    "print(result)\n"
   ]
  },
  {
   "cell_type": "code",
   "execution_count": null,
   "id": "da4783bd-c327-4c03-948b-d0e136255451",
   "metadata": {},
   "outputs": [],
   "source": []
  }
 ],
 "metadata": {
  "kernelspec": {
   "display_name": "Python 3 (ipykernel)",
   "language": "python",
   "name": "python3"
  },
  "language_info": {
   "codemirror_mode": {
    "name": "ipython",
    "version": 3
   },
   "file_extension": ".py",
   "mimetype": "text/x-python",
   "name": "python",
   "nbconvert_exporter": "python",
   "pygments_lexer": "ipython3",
   "version": "3.13.2"
  }
 },
 "nbformat": 4,
 "nbformat_minor": 5
}
