{
 "cells": [
  {
   "cell_type": "code",
   "execution_count": 17,
   "id": "e68becbb-559f-4c65-8fac-d731226ea909",
   "metadata": {},
   "outputs": [
    {
     "name": "stdout",
     "output_type": "stream",
     "text": [
      "{'To': 1, 'change': 2, 'the': 2, 'overall': 1, 'look': 2, 'of': 1, 'your': 1, 'document.To': 1, 'available': 1, 'in': 1, 'gallery.': 1}\n"
     ]
    }
   ],
   "source": [
    "#program to count the occurrences of each word in a given sentence\n",
    "\n",
    "S=\"To change the overall look of your document.To change the look available in gallery.\"\n",
    "result=dict()\n",
    "word=S.split(\" \")\n",
    "\n",
    "for t in word:\n",
    "    if t in result:\n",
    "        result[t]+=1\n",
    "    else:\n",
    "        result[t]=1\n",
    "print(result)\n",
    "\n",
    "\n"
   ]
  },
  {
   "cell_type": "code",
   "execution_count": 15,
   "id": "774dcb46-f86a-469f-addc-3dc2a19c39f9",
   "metadata": {},
   "outputs": [
    {
     "name": "stdout",
     "output_type": "stream",
     "text": [
      "\n",
      "Best\n",
      "Deeptech\n",
      "python\n",
      "Training\n",
      "\n"
     ]
    }
   ],
   "source": [
    "#program to remove a newline\n",
    "S=\"\\nBest\\nDeeptech\\npython\\nTraining\\n\"\n",
    "result=S.split(\"\\n\")\n",
    "for i in result:\n",
    "    print(i)"
   ]
  },
  {
   "cell_type": "code",
   "execution_count": 10,
   "id": "b1818ad2-be9e-415a-989f-0b8db3da2adf",
   "metadata": {},
   "outputs": [
    {
     "name": "stdout",
     "output_type": "stream",
     "text": [
      "gnimmargorP nohtyP hcetpeeD\n"
     ]
    }
   ],
   "source": [
    "#program to find reverse a words in a string\n",
    "S=\"Deeptech Python Programming\"\n",
    "reverse=S[::-1]\n",
    "print(reverse)"
   ]
  },
  {
   "cell_type": "code",
   "execution_count": 1,
   "id": "b1d6e682-dca7-464d-94a2-f7dc5b95fc08",
   "metadata": {},
   "outputs": [
    {
     "name": "stdout",
     "output_type": "stream",
     "text": [
      "Vowels in the string: ['e', 'o', 'e', 'o', 'o', 'a', 'i', 'i']\n",
      "Total number of vowels: 8\n"
     ]
    }
   ],
   "source": [
    "#program to count and display the vowels in a given string\n",
    "S=\"Welcome to Python Training\"\n",
    "vowels=\"AEIOUaeiou\"\n",
    "vowel_list=[]\n",
    "count=0\n",
    "for char in S:\n",
    "    if char in vowels:\n",
    "        vowel_list.append(char)\n",
    "        count+=1\n",
    "print(\"Vowels in the string:\",vowel_list)\n",
    "print(\"Total number of vowels:\",count)\n"
   ]
  },
  {
   "cell_type": "code",
   "execution_count": null,
   "id": "942cb90c-4b0c-48c3-9294-494c284b92eb",
   "metadata": {},
   "outputs": [],
   "source": []
  }
 ],
 "metadata": {
  "kernelspec": {
   "display_name": "Python 3 (ipykernel)",
   "language": "python",
   "name": "python3"
  },
  "language_info": {
   "codemirror_mode": {
    "name": "ipython",
    "version": 3
   },
   "file_extension": ".py",
   "mimetype": "text/x-python",
   "name": "python",
   "nbconvert_exporter": "python",
   "pygments_lexer": "ipython3",
   "version": "3.13.2"
  }
 },
 "nbformat": 4,
 "nbformat_minor": 5
}
