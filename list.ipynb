{
 "cells": [
  {
   "cell_type": "code",
   "execution_count": 1,
   "id": "42ccbbf7-e75d-4c2a-af8b-24ac6038f290",
   "metadata": {},
   "outputs": [
    {
     "name": "stdout",
     "output_type": "stream",
     "text": [
      "150\n"
     ]
    }
   ],
   "source": [
    "#program to find sum of all the items in list\n",
    "list=[10,20,30,40,50]\n",
    "result=sum(list)\n",
    "print(result)"
   ]
  },
  {
   "cell_type": "code",
   "execution_count": 2,
   "id": "ce553e78-1bb0-48b7-8c24-3917168f6be6",
   "metadata": {},
   "outputs": [
    {
     "name": "stdout",
     "output_type": "stream",
     "text": [
      "50\n",
      "10\n"
     ]
    }
   ],
   "source": [
    "#program to find largest and smallest from the list without builtin functions\n",
    "list:[20,50,10,60,35]\n",
    "largest=list[0]\n",
    "smallest=list[0]\n",
    "\n",
    "for num in list:\n",
    "    if num<smallest:\n",
    "        smallest=num\n",
    "    if num>largest:\n",
    "        largest=num\n",
    "print(largest)\n",
    "print(smallest)"
   ]
  },
  {
   "cell_type": "code",
   "execution_count": 16,
   "id": "3c7fc7ad-0706-4f7b-b204-6fbaa86428e0",
   "metadata": {},
   "outputs": [
    {
     "name": "stdout",
     "output_type": "stream",
     "text": [
      "[1, 1, 2]\n",
      "[3, 4, 4, 5, 1]\n"
     ]
    }
   ],
   "source": [
    "#program to split given numbers into two parts\n",
    "list=[1,1,2,3,4,4,5,1]\n",
    "\n",
    "mid=len(list) // 2\n",
    "first_half=list[:mid-1]\n",
    "second_half=list[mid-1:]\n",
    "\n",
    "print(first_half)\n",
    "print(second_half)"
   ]
  },
  {
   "cell_type": "code",
   "execution_count": 27,
   "id": "f511a4a0-312e-4b4e-a1dc-6ea06563ea39",
   "metadata": {},
   "outputs": [
    {
     "name": "stdout",
     "output_type": "stream",
     "text": [
      "['black', 'white', 'green', 'red']\n"
     ]
    }
   ],
   "source": [
    "#program to traverse the given list and reverse the order and print the elements in original list\n",
    "list=['red','green','white','black']\n",
    "list.reverse()\n",
    "print(list)\n"
   ]
  },
  {
   "cell_type": "code",
   "execution_count": null,
   "id": "ef2382d8-f435-439b-81d2-e4534c52b6e0",
   "metadata": {},
   "outputs": [],
   "source": [
    "\n"
   ]
  }
 ],
 "metadata": {
  "kernelspec": {
   "display_name": "Python 3 (ipykernel)",
   "language": "python",
   "name": "python3"
  },
  "language_info": {
   "codemirror_mode": {
    "name": "ipython",
    "version": 3
   },
   "file_extension": ".py",
   "mimetype": "text/x-python",
   "name": "python",
   "nbconvert_exporter": "python",
   "pygments_lexer": "ipython3",
   "version": "3.13.2"
  }
 },
 "nbformat": 4,
 "nbformat_minor": 5
}
