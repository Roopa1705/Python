{
 "cells": [
  {
   "cell_type": "code",
   "execution_count": 82,
   "id": "ccfda728-16f6-4813-bc64-84c40daf15b6",
   "metadata": {},
   "outputs": [
    {
     "name": "stdout",
     "output_type": "stream",
     "text": [
      "Total number of alphabets: 8\n",
      "Total number of digits: 3\n",
      "Total number of special character: 4\n"
     ]
    }
   ],
   "source": [
    "#program to count all the letters,digits and special symbols from the given string\n",
    "S=\"P@#Yn26at^&i5ve\"\n",
    "letters=0\n",
    "digits=0\n",
    "special_case=0\n",
    "\n",
    "for i in S:\n",
    "    if i.isalpha():\n",
    "        letters+=1\n",
    "    elif i.isdigit():\n",
    "        digits+=1   \n",
    "    else:\n",
    "        special_case +=1\n",
    "       \n",
    "print(\"Total number of alphabets:\",letters)\n",
    "print(\"Total number of digits:\",digits)\n",
    "print(\"Total number of special character:\",special_case)"
   ]
  },
  {
   "cell_type": "code",
   "execution_count": 38,
   "id": "33142054-0284-4f1f-b1a9-5e4bd0a5fb19",
   "metadata": {},
   "outputs": [
    {
     "name": "stdout",
     "output_type": "stream",
     "text": [
      "['String', 'and', 'Function']\n"
     ]
    }
   ],
   "source": [
    "#program to remove duplicate characters of a given string\n",
    "S=\"String and String Function\"\n",
    "word=S.split()\n",
    "result=[]\n",
    "seen=set()\n",
    "\n",
    "for word in word:\n",
    "    if word not in seen:\n",
    "        result.append(word)\n",
    "        seen.add(word)\n",
    "        \n",
    "print (result)\n",
    "    \n",
    "        "
   ]
  },
  {
   "cell_type": "code",
   "execution_count": 40,
   "id": "cb95bcbe-8f85-479e-8d55-9f8348f63698",
   "metadata": {},
   "outputs": [
    {
     "name": "stdout",
     "output_type": "stream",
     "text": [
      "Vowels in the string: ['e', 'o', 'e', 'o', 'o', 'a', 'i', 'e']\n",
      "Total number of vowels: 8\n"
     ]
    }
   ],
   "source": [
    "#program to count vowels in a string\n",
    "S=\"Welcome to Python assignment\"\n",
    "vowels=\"AEIOUaeiou\"\n",
    "vowel_list=[]\n",
    "count=0\n",
    "for char in S:\n",
    "    if char in vowels:\n",
    "        vowel_list.append(char)\n",
    "        count+=1\n",
    "print(\"Vowels in the string:\",vowel_list)\n",
    "print(\"Total number of vowels:\",count)"
   ]
  },
  {
   "cell_type": "code",
   "execution_count": 83,
   "id": "219905e6-e72c-44d5-844f-15e89912bd3e",
   "metadata": {},
   "outputs": [
    {
     "name": "stdout",
     "output_type": "stream",
     "text": [
      "Total number of uppercase: 7\n",
      "Total number of lowercase: 18\n",
      "Total number of numeric values: 3\n",
      "Total number of special character: 11\n"
     ]
    }
   ],
   "source": [
    "#program to count uppercase,lowercase,special character and numersic values in a givenstring\n",
    "S=\"HellO WOrld ! 123 * # welcome to pYtHoN\"\n",
    "upper_count=0\n",
    "lower_count=0\n",
    "digits=0\n",
    "special_case=0\n",
    "\n",
    "for i in S:\n",
    "    if i.isupper():\n",
    "        upper_count+=1\n",
    "    elif i.islower():\n",
    "        lower_count+=1\n",
    "    elif i.isdigit():\n",
    "        digits+=1\n",
    "    else:\n",
    "     special_case+=1   \n",
    "       \n",
    "print(\"Total number of uppercase:\",upper_count)\n",
    "print(\"Total number of lowercase:\",lower_count)\n",
    "print(\"Total number of numeric values:\",digits)\n",
    "print(\"Total number of special character:\",special_case)"
   ]
  },
  {
   "cell_type": "code",
   "execution_count": null,
   "id": "9e1fc350-3bb0-427a-b2c2-316537e58c9b",
   "metadata": {},
   "outputs": [],
   "source": []
  }
 ],
 "metadata": {
  "kernelspec": {
   "display_name": "Python 3 (ipykernel)",
   "language": "python",
   "name": "python3"
  },
  "language_info": {
   "codemirror_mode": {
    "name": "ipython",
    "version": 3
   },
   "file_extension": ".py",
   "mimetype": "text/x-python",
   "name": "python",
   "nbconvert_exporter": "python",
   "pygments_lexer": "ipython3",
   "version": "3.13.2"
  }
 },
 "nbformat": 4,
 "nbformat_minor": 5
}
