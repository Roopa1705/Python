{
 "cells": [
  {
   "cell_type": "code",
   "execution_count": 3,
   "id": "fd5aadba-9cd2-4a86-bcb5-03778cbed66d",
   "metadata": {},
   "outputs": [
    {
     "name": "stdout",
     "output_type": "stream",
     "text": [
      "1\n",
      "2\n",
      "3\n",
      "4\n",
      "5\n",
      "6\n",
      "7\n",
      "8\n",
      "9\n",
      "10\n"
     ]
    }
   ],
   "source": [
    "#print the 10 natural numbers using for loop\n",
    "for i in range (1,11):\n",
    "    print (i)"
   ]
  },
  {
   "cell_type": "code",
   "execution_count": 8,
   "id": "5dce01e9-8193-4cbd-9751-97fb7ab4873a",
   "metadata": {},
   "outputs": [
    {
     "name": "stdin",
     "output_type": "stream",
     "text": [
      "Enter a string madam\n"
     ]
    },
    {
     "name": "stdout",
     "output_type": "stream",
     "text": [
      "The given string madam is palindrome\n"
     ]
    }
   ],
   "source": [
    "#program to check given string is palindrome \n",
    "S=input(\"Enter a string\")\n",
    "reverse=(S[::-1])\n",
    "if reverse==S:\n",
    "    print(f\"The given string {S} is palindrome\")\n",
    "else:\n",
    "    print (f\"The given string {S} is not palindrome\")"
   ]
  },
  {
   "cell_type": "code",
   "execution_count": 5,
   "id": "6dc9eb5e-2a43-4a9a-a818-f5e6812b9e15",
   "metadata": {},
   "outputs": [
    {
     "name": "stdin",
     "output_type": "stream",
     "text": [
      "Enter the number 5\n"
     ]
    },
    {
     "name": "stdout",
     "output_type": "stream",
     "text": [
      "0\n",
      "1\n",
      "1\n",
      "2\n",
      "3\n",
      "5\n"
     ]
    }
   ],
   "source": [
    "#program to print fibonacci series between 0 t0 50\n",
    "a=0\n",
    "b=1\n",
    "i=1\n",
    "num=int(input(\"Enter the number\"))\n",
    "print (a)\n",
    "print (b)\n",
    "while i<num:\n",
    "    c=a+b\n",
    "    print (c)\n",
    "    a=b\n",
    "    b=c\n",
    "    i+=1"
   ]
  },
  {
   "cell_type": "code",
   "execution_count": 1,
   "id": "b73130b4-f408-414f-a9be-f5ca30e255ba",
   "metadata": {},
   "outputs": [
    {
     "name": "stdout",
     "output_type": "stream",
     "text": [
      "Armstrong number\n"
     ]
    }
   ],
   "source": [
    "#program to check if a given is armstrong number\n",
    "given_number=153\n",
    "given_number=str(given_number)\n",
    "string_len=len(given_number)\n",
    "sum=0\n",
    "for i in given_number:\n",
    "    sum+=int(i)**string_len\n",
    "\n",
    "if sum==int(given_number):\n",
    "    print(\"Armstrong number\")\n",
    "else:\n",
    "    print(\"not\")"
   ]
  },
  {
   "cell_type": "code",
   "execution_count": 3,
   "id": "323c60bb-f4d6-40fc-8acf-db904f538e46",
   "metadata": {},
   "outputs": [
    {
     "name": "stdin",
     "output_type": "stream",
     "text": [
      " Roopa!123\n"
     ]
    },
    {
     "name": "stdout",
     "output_type": "stream",
     "text": [
      "It is a valid password\n"
     ]
    }
   ],
   "source": [
    "#program to check validity of passwords input by user\n",
    "password=input()\n",
    "has_valid_length=False\n",
    "has_lower_case=False\n",
    "has_upper_case=False\n",
    "has_digits=False\n",
    "has_special_character=False\n",
    "\n",
    "if(len(password)>=8 and len(password)<=16):\n",
    "    has_valid_length=True\n",
    "for i in password:\n",
    "    if (i.islower()):\n",
    "        has_lower_case=True\n",
    "    if (i.isupper()):\n",
    "        has_upper_case=True\n",
    "    if (i.isdigit()):\n",
    "        has_digits=True\n",
    "    if (i==\"@\" or i==\"$\" or i==\"!\"):\n",
    "        has_special_character=True\n",
    "if ( has_valid_length==True and  has_lower_case==True and has_upper_case==True and has_digits==True and has_digits==True):\n",
    "    print(\"It is a valid password\")\n",
    "else:\n",
    "    print(\"It is not a valid password\")\n",
    "        \n",
    "    "
   ]
  },
  {
   "cell_type": "code",
   "execution_count": null,
   "id": "846b18f0-ced3-42d8-8e95-4586497bf923",
   "metadata": {},
   "outputs": [],
   "source": []
  }
 ],
 "metadata": {
  "kernelspec": {
   "display_name": "Python 3 (ipykernel)",
   "language": "python",
   "name": "python3"
  },
  "language_info": {
   "codemirror_mode": {
    "name": "ipython",
    "version": 3
   },
   "file_extension": ".py",
   "mimetype": "text/x-python",
   "name": "python",
   "nbconvert_exporter": "python",
   "pygments_lexer": "ipython3",
   "version": "3.13.2"
  }
 },
 "nbformat": 4,
 "nbformat_minor": 5
}
